{
  "nbformat": 4,
  "nbformat_minor": 0,
  "metadata": {
    "colab": {
      "name": "S+P Week 3 Lesson 4 - LSTM.ipynb",
      "provenance": [],
      "collapsed_sections": [],
      "toc_visible": true,
      "include_colab_link": true
    },
    "kernelspec": {
      "display_name": "Python 3",
      "name": "python3"
    }
  },
  "cells": [
    {
      "cell_type": "markdown",
      "metadata": {
        "id": "view-in-github",
        "colab_type": "text"
      },
      "source": [
        "<a href=\"https://colab.research.google.com/github/cyclingdata/tensorflow_practice_coursera/blob/master/S%2BP_Week_3_Lesson_4_LSTM.ipynb\" target=\"_parent\"><img src=\"https://colab.research.google.com/assets/colab-badge.svg\" alt=\"Open In Colab\"/></a>"
      ]
    },
    {
      "cell_type": "code",
      "metadata": {
        "colab_type": "code",
        "id": "D1J15Vh_1Jih",
        "colab": {}
      },
      "source": [
        "!pip install tf-nightly-2.0-preview\n"
      ],
      "execution_count": 0,
      "outputs": []
    },
    {
      "cell_type": "code",
      "metadata": {
        "colab_type": "code",
        "id": "BOjujz601HcS",
        "outputId": "e8702e5b-de8f-4bd2-abc8-0800e0ac7808",
        "colab": {
          "base_uri": "https://localhost:8080/",
          "height": 34
        }
      },
      "source": [
        "import tensorflow as tf\n",
        "import numpy as np\n",
        "import matplotlib.pyplot as plt\n",
        "print(tf.__version__)"
      ],
      "execution_count": 1,
      "outputs": [
        {
          "output_type": "stream",
          "text": [
            "2.2.0-rc2\n"
          ],
          "name": "stdout"
        }
      ]
    },
    {
      "cell_type": "code",
      "metadata": {
        "colab_type": "code",
        "id": "Zswl7jRtGzkk",
        "colab": {}
      },
      "source": [
        "def plot_series(time, series, format=\"-\", start=0, end=None):\n",
        "    plt.plot(time[start:end], series[start:end], format)\n",
        "    plt.xlabel(\"Time\")\n",
        "    plt.ylabel(\"Value\")\n",
        "    plt.grid(True)\n",
        "\n",
        "def trend(time, slope=0):\n",
        "    return slope * time\n",
        "\n",
        "def seasonal_pattern(season_time):\n",
        "    \"\"\"Just an arbitrary pattern, you can change it if you wish\"\"\"\n",
        "    return np.where(season_time < 0.4,\n",
        "                    np.cos(season_time * 2 * np.pi),\n",
        "                    1 / np.exp(3 * season_time))\n",
        "\n",
        "def seasonality(time, period, amplitude=1, phase=0):\n",
        "    \"\"\"Repeats the same pattern at each period\"\"\"\n",
        "    season_time = ((time + phase) % period) / period\n",
        "    return amplitude * seasonal_pattern(season_time)\n",
        "\n",
        "def noise(time, noise_level=1, seed=None):\n",
        "    rnd = np.random.RandomState(seed)\n",
        "    return rnd.randn(len(time)) * noise_level\n",
        "\n",
        "time = np.arange(4 * 365 + 1, dtype=\"float32\")\n",
        "baseline = 10\n",
        "series = trend(time, 0.1)  \n",
        "baseline = 10\n",
        "amplitude = 40\n",
        "slope = 0.05\n",
        "noise_level = 5\n",
        "\n",
        "# Create the series\n",
        "series = baseline + trend(time, slope) + seasonality(time, period=365, amplitude=amplitude)\n",
        "# Update with noise\n",
        "series += noise(time, noise_level, seed=42)\n",
        "\n",
        "split_time = 1000\n",
        "time_train = time[:split_time]\n",
        "x_train = series[:split_time]\n",
        "time_valid = time[split_time:]\n",
        "x_valid = series[split_time:]\n",
        "\n",
        "window_size = 20\n",
        "batch_size = 32\n",
        "shuffle_buffer_size = 1000"
      ],
      "execution_count": 0,
      "outputs": []
    },
    {
      "cell_type": "code",
      "metadata": {
        "colab_type": "code",
        "id": "4sTTIOCbyShY",
        "colab": {}
      },
      "source": [
        "def windowed_dataset(series, window_size, batch_size, shuffle_buffer):\n",
        "  dataset = tf.data.Dataset.from_tensor_slices(series)\n",
        "  dataset = dataset.window(window_size + 1, shift=1, drop_remainder=True)\n",
        "  dataset = dataset.flat_map(lambda window: window.batch(window_size + 1))\n",
        "  dataset = dataset.shuffle(shuffle_buffer).map(lambda window: (window[:-1], window[-1]))\n",
        "  dataset = dataset.batch(batch_size).prefetch(1)\n",
        "  return dataset"
      ],
      "execution_count": 0,
      "outputs": []
    },
    {
      "cell_type": "code",
      "metadata": {
        "colab_type": "code",
        "id": "A1Hl39rklkLm",
        "outputId": "37487ad8-cca8-4c84-fe72-00620ca34a18",
        "colab": {
          "base_uri": "https://localhost:8080/",
          "height": 1000
        }
      },
      "source": [
        "tf.keras.backend.clear_session()\n",
        "tf.random.set_seed(51)\n",
        "np.random.seed(51)\n",
        "\n",
        "tf.keras.backend.clear_session()\n",
        "dataset = windowed_dataset(x_train, window_size, batch_size, shuffle_buffer_size)\n",
        "\n",
        "model = tf.keras.models.Sequential([\n",
        "  tf.keras.layers.Lambda(lambda x: tf.expand_dims(x, axis=-1),\n",
        "                      input_shape=[None]),\n",
        "    tf.keras.layers.Bidirectional(tf.keras.layers.LSTM(32, return_sequences=True)),\n",
        "  tf.keras.layers.Bidirectional(tf.keras.layers.LSTM(32)),\n",
        "  tf.keras.layers.Dense(1),\n",
        "  tf.keras.layers.Lambda(lambda x: x * 100.0)\n",
        "])\n",
        "\n",
        "lr_schedule = tf.keras.callbacks.LearningRateScheduler(\n",
        "    lambda epoch: 1e-8 * 10**(epoch / 20))\n",
        "optimizer = tf.keras.optimizers.SGD(lr=1e-8, momentum=0.9)\n",
        "model.compile(loss=tf.keras.losses.Huber(),\n",
        "              optimizer=optimizer,\n",
        "              metrics=[\"mae\"])\n",
        "history = model.fit(dataset, epochs=100, callbacks=[lr_schedule])"
      ],
      "execution_count": 4,
      "outputs": [
        {
          "output_type": "stream",
          "text": [
            "Epoch 1/100\n",
            "31/31 [==============================] - 1s 26ms/step - loss: 21.4783 - mae: 22.0115 - lr: 1.0000e-08\n",
            "Epoch 2/100\n",
            "31/31 [==============================] - 1s 24ms/step - loss: 21.1658 - mae: 21.6444 - lr: 1.1220e-08\n",
            "Epoch 3/100\n",
            "31/31 [==============================] - 1s 25ms/step - loss: 20.8067 - mae: 21.2236 - lr: 1.2589e-08\n",
            "Epoch 4/100\n",
            "31/31 [==============================] - 1s 25ms/step - loss: 20.2852 - mae: 20.7757 - lr: 1.4125e-08\n",
            "Epoch 5/100\n",
            "31/31 [==============================] - 1s 25ms/step - loss: 19.7430 - mae: 20.2855 - lr: 1.5849e-08\n",
            "Epoch 6/100\n",
            "31/31 [==============================] - 1s 25ms/step - loss: 19.1649 - mae: 19.6696 - lr: 1.7783e-08\n",
            "Epoch 7/100\n",
            "31/31 [==============================] - 1s 25ms/step - loss: 18.2844 - mae: 18.7333 - lr: 1.9953e-08\n",
            "Epoch 8/100\n",
            "31/31 [==============================] - 1s 25ms/step - loss: 17.4439 - mae: 17.9748 - lr: 2.2387e-08\n",
            "Epoch 9/100\n",
            "31/31 [==============================] - 1s 25ms/step - loss: 17.1310 - mae: 17.6529 - lr: 2.5119e-08\n",
            "Epoch 10/100\n",
            "31/31 [==============================] - 1s 24ms/step - loss: 16.8194 - mae: 17.3463 - lr: 2.8184e-08\n",
            "Epoch 11/100\n",
            "31/31 [==============================] - 1s 24ms/step - loss: 16.5830 - mae: 17.0471 - lr: 3.1623e-08\n",
            "Epoch 12/100\n",
            "31/31 [==============================] - 1s 25ms/step - loss: 16.2508 - mae: 16.7524 - lr: 3.5481e-08\n",
            "Epoch 13/100\n",
            "31/31 [==============================] - 1s 25ms/step - loss: 15.9403 - mae: 16.4598 - lr: 3.9811e-08\n",
            "Epoch 14/100\n",
            "31/31 [==============================] - 1s 25ms/step - loss: 15.6543 - mae: 16.1548 - lr: 4.4668e-08\n",
            "Epoch 15/100\n",
            "31/31 [==============================] - 1s 25ms/step - loss: 15.3503 - mae: 15.8652 - lr: 5.0119e-08\n",
            "Epoch 16/100\n",
            "31/31 [==============================] - 1s 25ms/step - loss: 15.0848 - mae: 15.5697 - lr: 5.6234e-08\n",
            "Epoch 17/100\n",
            "31/31 [==============================] - 1s 25ms/step - loss: 14.8167 - mae: 15.2869 - lr: 6.3096e-08\n",
            "Epoch 18/100\n",
            "31/31 [==============================] - 1s 26ms/step - loss: 14.4830 - mae: 15.0178 - lr: 7.0795e-08\n",
            "Epoch 19/100\n",
            "31/31 [==============================] - 1s 25ms/step - loss: 14.2440 - mae: 14.7636 - lr: 7.9433e-08\n",
            "Epoch 20/100\n",
            "31/31 [==============================] - 1s 26ms/step - loss: 14.0301 - mae: 14.5217 - lr: 8.9125e-08\n",
            "Epoch 21/100\n",
            "31/31 [==============================] - 1s 25ms/step - loss: 13.8007 - mae: 14.3135 - lr: 1.0000e-07\n",
            "Epoch 22/100\n",
            "31/31 [==============================] - 1s 24ms/step - loss: 13.6156 - mae: 14.1032 - lr: 1.1220e-07\n",
            "Epoch 23/100\n",
            "31/31 [==============================] - 1s 25ms/step - loss: 13.4195 - mae: 13.9038 - lr: 1.2589e-07\n",
            "Epoch 24/100\n",
            "31/31 [==============================] - 1s 25ms/step - loss: 13.1518 - mae: 13.6794 - lr: 1.4125e-07\n",
            "Epoch 25/100\n",
            "31/31 [==============================] - 1s 25ms/step - loss: 12.9704 - mae: 13.4747 - lr: 1.5849e-07\n",
            "Epoch 26/100\n",
            "31/31 [==============================] - 1s 25ms/step - loss: 12.6991 - mae: 13.2184 - lr: 1.7783e-07\n",
            "Epoch 27/100\n",
            "31/31 [==============================] - 1s 25ms/step - loss: 12.4964 - mae: 12.9799 - lr: 1.9953e-07\n",
            "Epoch 28/100\n",
            "31/31 [==============================] - 1s 25ms/step - loss: 12.3237 - mae: 12.8362 - lr: 2.2387e-07\n",
            "Epoch 29/100\n",
            "31/31 [==============================] - 1s 24ms/step - loss: 11.9000 - mae: 12.4017 - lr: 2.5119e-07\n",
            "Epoch 30/100\n",
            "31/31 [==============================] - 1s 25ms/step - loss: 11.5901 - mae: 12.0835 - lr: 2.8184e-07\n",
            "Epoch 31/100\n",
            "31/31 [==============================] - 1s 25ms/step - loss: 11.3060 - mae: 11.7771 - lr: 3.1623e-07\n",
            "Epoch 32/100\n",
            "31/31 [==============================] - 1s 26ms/step - loss: 11.3618 - mae: 11.8418 - lr: 3.5481e-07\n",
            "Epoch 33/100\n",
            "31/31 [==============================] - 1s 25ms/step - loss: 10.5317 - mae: 11.0140 - lr: 3.9811e-07\n",
            "Epoch 34/100\n",
            "31/31 [==============================] - 1s 25ms/step - loss: 10.5461 - mae: 11.0364 - lr: 4.4668e-07\n",
            "Epoch 35/100\n",
            "31/31 [==============================] - 1s 24ms/step - loss: 10.0745 - mae: 10.5494 - lr: 5.0119e-07\n",
            "Epoch 36/100\n",
            "31/31 [==============================] - 1s 24ms/step - loss: 10.5411 - mae: 11.0200 - lr: 5.6234e-07\n",
            "Epoch 37/100\n",
            "31/31 [==============================] - 1s 24ms/step - loss: 10.1724 - mae: 10.6815 - lr: 6.3096e-07\n",
            "Epoch 38/100\n",
            "31/31 [==============================] - 1s 25ms/step - loss: 9.6407 - mae: 10.1381 - lr: 7.0795e-07\n",
            "Epoch 39/100\n",
            "31/31 [==============================] - 1s 25ms/step - loss: 9.1475 - mae: 9.6376 - lr: 7.9433e-07\n",
            "Epoch 40/100\n",
            "31/31 [==============================] - 1s 24ms/step - loss: 8.6897 - mae: 9.1934 - lr: 8.9125e-07\n",
            "Epoch 41/100\n",
            "31/31 [==============================] - 1s 25ms/step - loss: 8.2945 - mae: 8.7743 - lr: 1.0000e-06\n",
            "Epoch 42/100\n",
            "31/31 [==============================] - 1s 24ms/step - loss: 7.9128 - mae: 8.4313 - lr: 1.1220e-06\n",
            "Epoch 43/100\n",
            "31/31 [==============================] - 1s 25ms/step - loss: 7.6037 - mae: 8.1052 - lr: 1.2589e-06\n",
            "Epoch 44/100\n",
            "31/31 [==============================] - 1s 24ms/step - loss: 7.3633 - mae: 7.8547 - lr: 1.4125e-06\n",
            "Epoch 45/100\n",
            "31/31 [==============================] - 1s 25ms/step - loss: 7.1754 - mae: 7.6829 - lr: 1.5849e-06\n",
            "Epoch 46/100\n",
            "31/31 [==============================] - 1s 25ms/step - loss: 6.9110 - mae: 7.3661 - lr: 1.7783e-06\n",
            "Epoch 47/100\n",
            "31/31 [==============================] - 1s 25ms/step - loss: 6.6862 - mae: 7.1594 - lr: 1.9953e-06\n",
            "Epoch 48/100\n",
            "31/31 [==============================] - 1s 25ms/step - loss: 6.5786 - mae: 7.0609 - lr: 2.2387e-06\n",
            "Epoch 49/100\n",
            "31/31 [==============================] - 1s 25ms/step - loss: 6.1982 - mae: 6.6838 - lr: 2.5119e-06\n",
            "Epoch 50/100\n",
            "31/31 [==============================] - 1s 25ms/step - loss: 6.0457 - mae: 6.5179 - lr: 2.8184e-06\n",
            "Epoch 51/100\n",
            "31/31 [==============================] - 1s 25ms/step - loss: 5.9005 - mae: 6.3876 - lr: 3.1623e-06\n",
            "Epoch 52/100\n",
            "31/31 [==============================] - 1s 25ms/step - loss: 5.7711 - mae: 6.2586 - lr: 3.5481e-06\n",
            "Epoch 53/100\n",
            "31/31 [==============================] - 1s 25ms/step - loss: 5.6043 - mae: 6.1098 - lr: 3.9811e-06\n",
            "Epoch 54/100\n",
            "31/31 [==============================] - 1s 25ms/step - loss: 5.5092 - mae: 5.9948 - lr: 4.4668e-06\n",
            "Epoch 55/100\n",
            "31/31 [==============================] - 1s 25ms/step - loss: 5.3827 - mae: 5.8635 - lr: 5.0119e-06\n",
            "Epoch 56/100\n",
            "31/31 [==============================] - 1s 25ms/step - loss: 5.5505 - mae: 6.0306 - lr: 5.6234e-06\n",
            "Epoch 57/100\n",
            "31/31 [==============================] - 1s 25ms/step - loss: 5.2918 - mae: 5.7568 - lr: 6.3096e-06\n",
            "Epoch 58/100\n",
            "31/31 [==============================] - 1s 25ms/step - loss: 5.2361 - mae: 5.7360 - lr: 7.0795e-06\n",
            "Epoch 59/100\n",
            "31/31 [==============================] - 1s 25ms/step - loss: 5.1459 - mae: 5.5976 - lr: 7.9433e-06\n",
            "Epoch 60/100\n",
            "31/31 [==============================] - 1s 25ms/step - loss: 5.0462 - mae: 5.5221 - lr: 8.9125e-06\n",
            "Epoch 61/100\n",
            "31/31 [==============================] - 1s 25ms/step - loss: 5.3111 - mae: 5.7862 - lr: 1.0000e-05\n",
            "Epoch 62/100\n",
            "31/31 [==============================] - 1s 25ms/step - loss: 5.2027 - mae: 5.7006 - lr: 1.1220e-05\n",
            "Epoch 63/100\n",
            "31/31 [==============================] - 1s 25ms/step - loss: 5.0192 - mae: 5.4971 - lr: 1.2589e-05\n",
            "Epoch 64/100\n",
            "31/31 [==============================] - 1s 25ms/step - loss: 4.8292 - mae: 5.3121 - lr: 1.4125e-05\n",
            "Epoch 65/100\n",
            "31/31 [==============================] - 1s 25ms/step - loss: 5.2756 - mae: 5.7625 - lr: 1.5849e-05\n",
            "Epoch 66/100\n",
            "31/31 [==============================] - 1s 25ms/step - loss: 5.3704 - mae: 5.8518 - lr: 1.7783e-05\n",
            "Epoch 67/100\n",
            "31/31 [==============================] - 1s 26ms/step - loss: 6.0892 - mae: 6.5999 - lr: 1.9953e-05\n",
            "Epoch 68/100\n",
            "31/31 [==============================] - 1s 26ms/step - loss: 5.2385 - mae: 5.7288 - lr: 2.2387e-05\n",
            "Epoch 69/100\n",
            "31/31 [==============================] - 1s 25ms/step - loss: 5.4422 - mae: 5.9387 - lr: 2.5119e-05\n",
            "Epoch 70/100\n",
            "31/31 [==============================] - 1s 25ms/step - loss: 4.8923 - mae: 5.3517 - lr: 2.8184e-05\n",
            "Epoch 71/100\n",
            "31/31 [==============================] - 1s 25ms/step - loss: 5.8233 - mae: 6.3328 - lr: 3.1623e-05\n",
            "Epoch 72/100\n",
            "31/31 [==============================] - 1s 25ms/step - loss: 5.7272 - mae: 6.1906 - lr: 3.5481e-05\n",
            "Epoch 73/100\n",
            "31/31 [==============================] - 1s 24ms/step - loss: 6.5210 - mae: 6.9855 - lr: 3.9811e-05\n",
            "Epoch 74/100\n",
            "31/31 [==============================] - 1s 24ms/step - loss: 5.1160 - mae: 5.5983 - lr: 4.4668e-05\n",
            "Epoch 75/100\n",
            "31/31 [==============================] - 1s 24ms/step - loss: 5.4475 - mae: 5.9459 - lr: 5.0119e-05\n",
            "Epoch 76/100\n",
            "31/31 [==============================] - 1s 25ms/step - loss: 5.5975 - mae: 6.0675 - lr: 5.6234e-05\n",
            "Epoch 77/100\n",
            "31/31 [==============================] - 1s 25ms/step - loss: 6.5680 - mae: 7.0869 - lr: 6.3096e-05\n",
            "Epoch 78/100\n",
            "31/31 [==============================] - 1s 25ms/step - loss: 5.3687 - mae: 5.8222 - lr: 7.0795e-05\n",
            "Epoch 79/100\n",
            "31/31 [==============================] - 1s 25ms/step - loss: 5.3350 - mae: 5.8316 - lr: 7.9433e-05\n",
            "Epoch 80/100\n",
            "31/31 [==============================] - 1s 24ms/step - loss: 5.1143 - mae: 5.6126 - lr: 8.9125e-05\n",
            "Epoch 81/100\n",
            "31/31 [==============================] - 1s 24ms/step - loss: 7.2283 - mae: 7.7277 - lr: 1.0000e-04\n",
            "Epoch 82/100\n",
            "31/31 [==============================] - 1s 25ms/step - loss: 5.3088 - mae: 5.7740 - lr: 1.1220e-04\n",
            "Epoch 83/100\n",
            "31/31 [==============================] - 1s 25ms/step - loss: 6.1391 - mae: 6.5905 - lr: 1.2589e-04\n",
            "Epoch 84/100\n",
            "31/31 [==============================] - 1s 25ms/step - loss: 8.0298 - mae: 8.5283 - lr: 1.4125e-04\n",
            "Epoch 85/100\n",
            "31/31 [==============================] - 1s 25ms/step - loss: 6.0853 - mae: 6.5356 - lr: 1.5849e-04\n",
            "Epoch 86/100\n",
            "31/31 [==============================] - 1s 25ms/step - loss: 7.0485 - mae: 7.5547 - lr: 1.7783e-04\n",
            "Epoch 87/100\n",
            "31/31 [==============================] - 1s 24ms/step - loss: 7.2122 - mae: 7.7278 - lr: 1.9953e-04\n",
            "Epoch 88/100\n",
            "31/31 [==============================] - 1s 25ms/step - loss: 6.3607 - mae: 6.8373 - lr: 2.2387e-04\n",
            "Epoch 89/100\n",
            "31/31 [==============================] - 1s 25ms/step - loss: 7.1228 - mae: 7.5513 - lr: 2.5119e-04\n",
            "Epoch 90/100\n",
            "31/31 [==============================] - 1s 25ms/step - loss: 7.5439 - mae: 8.0461 - lr: 2.8184e-04\n",
            "Epoch 91/100\n",
            "31/31 [==============================] - 1s 25ms/step - loss: 7.4537 - mae: 7.8897 - lr: 3.1623e-04\n",
            "Epoch 92/100\n",
            "31/31 [==============================] - 1s 25ms/step - loss: 10.2940 - mae: 10.8019 - lr: 3.5481e-04\n",
            "Epoch 93/100\n",
            "31/31 [==============================] - 1s 25ms/step - loss: 9.0103 - mae: 9.4390 - lr: 3.9811e-04\n",
            "Epoch 94/100\n",
            "31/31 [==============================] - 1s 24ms/step - loss: 9.0259 - mae: 9.4936 - lr: 4.4668e-04\n",
            "Epoch 95/100\n",
            "31/31 [==============================] - 1s 25ms/step - loss: 11.8159 - mae: 12.2335 - lr: 5.0119e-04\n",
            "Epoch 96/100\n",
            "31/31 [==============================] - 1s 24ms/step - loss: 10.1830 - mae: 10.6860 - lr: 5.6234e-04\n",
            "Epoch 97/100\n",
            "31/31 [==============================] - 1s 25ms/step - loss: 7.8492 - mae: 8.2923 - lr: 6.3096e-04\n",
            "Epoch 98/100\n",
            "31/31 [==============================] - 1s 25ms/step - loss: 8.5066 - mae: 9.0218 - lr: 7.0795e-04\n",
            "Epoch 99/100\n",
            "31/31 [==============================] - 1s 24ms/step - loss: 8.5336 - mae: 8.9568 - lr: 7.9433e-04\n",
            "Epoch 100/100\n",
            "31/31 [==============================] - 1s 26ms/step - loss: 13.1655 - mae: 13.6531 - lr: 8.9125e-04\n"
          ],
          "name": "stdout"
        }
      ]
    },
    {
      "cell_type": "code",
      "metadata": {
        "colab_type": "code",
        "id": "AkBsrsXMzoWR",
        "outputId": "ba84e368-5872-40e8-944c-6fabaa687e53",
        "colab": {
          "base_uri": "https://localhost:8080/",
          "height": 290
        }
      },
      "source": [
        "plt.semilogx(history.history[\"lr\"], history.history[\"loss\"])\n",
        "plt.axis([1e-8, 1e-4, 0, 30])"
      ],
      "execution_count": 5,
      "outputs": [
        {
          "output_type": "execute_result",
          "data": {
            "text/plain": [
              "(1e-08, 0.0001, 0.0, 30.0)"
            ]
          },
          "metadata": {
            "tags": []
          },
          "execution_count": 5
        },
        {
          "output_type": "display_data",
          "data": {
            "image/png": "[encoded data removed]",
            "text/plain": [
              "<Figure size 432x288 with 1 Axes>"
            ]
          },
          "metadata": {
            "tags": []
          }
        }
      ]
    },
    {
      "cell_type": "code",
      "metadata": {
        "colab_type": "code",
        "id": "4uh-97bpLZCA",
        "colab": {}
      },
      "source": [
        "tf.keras.backend.clear_session()\n",
        "tf.random.set_seed(51)\n",
        "np.random.seed(51)\n",
        "\n",
        "tf.keras.backend.clear_session()\n",
        "dataset = windowed_dataset(x_train, window_size, batch_size, shuffle_buffer_size)\n",
        "\n",
        "model = tf.keras.models.Sequential([\n",
        "  tf.keras.layers.Lambda(lambda x: tf.expand_dims(x, axis=-1),\n",
        "                      input_shape=[None]),\n",
        "   tf.keras.layers.Bidirectional(tf.keras.layers.LSTM(32, return_sequences=True)),\n",
        "  tf.keras.layers.Bidirectional(tf.keras.layers.LSTM(32)),\n",
        "  tf.keras.layers.Dense(1),\n",
        "  tf.keras.layers.Lambda(lambda x: x * 100.0)\n",
        "])\n",
        "\n",
        "\n",
        "model.compile(loss=\"mse\", optimizer=tf.keras.optimizers.SGD(lr=1e-5, momentum=0.9),metrics=[\"mae\"])\n",
        "history = model.fit(dataset,epochs=500,verbose=0)"
      ],
      "execution_count": 0,
      "outputs": []
    },
    {
      "cell_type": "code",
      "metadata": {
        "colab_type": "code",
        "id": "icGDaND7z0ne",
        "outputId": "feb33039-26a6-44fa-8eaa-6f275d3392b5",
        "colab": {
          "base_uri": "https://localhost:8080/",
          "height": 388
        }
      },
      "source": [
        "forecast = []\n",
        "results = []\n",
        "for time in range(len(series) - window_size):\n",
        "  forecast.append(model.predict(series[time:time + window_size][np.newaxis]))\n",
        "\n",
        "forecast = forecast[split_time-window_size:]\n",
        "results = np.array(forecast)[:, 0, 0]\n",
        "\n",
        "\n",
        "plt.figure(figsize=(10, 6))\n",
        "\n",
        "plot_series(time_valid, x_valid)\n",
        "plot_series(time_valid, results)"
      ],
      "execution_count": 7,
      "outputs": [
        {
          "output_type": "display_data",
          "data": {
            "image/png": "[encoded data removed]",
            "text/plain": [
              "<Figure size 720x432 with 1 Axes>"
            ]
          },
          "metadata": {
            "tags": []
          }
        }
      ]
    },
    {
      "cell_type": "code",
      "metadata": {
        "colab_type": "code",
        "id": "KfPeqI7rz4LD",
        "outputId": "b58233b3-de86-49a3-97b2-a137619db332",
        "colab": {
          "base_uri": "https://localhost:8080/",
          "height": 34
        }
      },
      "source": [
        "tf.keras.metrics.mean_absolute_error(x_valid, results).numpy()"
      ],
      "execution_count": 8,
      "outputs": [
        {
          "output_type": "execute_result",
          "data": {
            "text/plain": [
              "5.450017"
            ]
          },
          "metadata": {
            "tags": []
          },
          "execution_count": 8
        }
      ]
    },
    {
      "cell_type": "code",
      "metadata": {
        "colab_type": "code",
        "id": "JUsdZB_tzDLe",
        "outputId": "23cc39d5-9bec-4f7c-973e-5bb20d5dab04",
        "colab": {
          "base_uri": "https://localhost:8080/",
          "height": 607
        }
      },
      "source": [
        "import matplotlib.image  as mpimg\n",
        "import matplotlib.pyplot as plt\n",
        "\n",
        "#-----------------------------------------------------------\n",
        "# Retrieve a list of list results on training and test data\n",
        "# sets for each training epoch\n",
        "#-----------------------------------------------------------\n",
        "mae=history.history['mae']\n",
        "loss=history.history['loss']\n",
        "\n",
        "epochs=range(len(loss)) # Get number of epochs\n",
        "\n",
        "#------------------------------------------------\n",
        "# Plot MAE and Loss\n",
        "#------------------------------------------------\n",
        "plt.plot(epochs, mae, 'r')\n",
        "plt.plot(epochs, loss, 'b')\n",
        "plt.title('MAE and Loss')\n",
        "plt.xlabel(\"Epochs\")\n",
        "plt.ylabel(\"Accuracy\")\n",
        "plt.legend([\"MAE\", \"Loss\"])\n",
        "\n",
        "plt.figure()\n",
        "\n",
        "epochs_zoom = epochs[200:]\n",
        "mae_zoom = mae[200:]\n",
        "loss_zoom = loss[200:]\n",
        "\n",
        "#------------------------------------------------\n",
        "# Plot Zoomed MAE and Loss\n",
        "#------------------------------------------------\n",
        "plt.plot(epochs_zoom, mae_zoom, 'r')\n",
        "plt.plot(epochs_zoom, loss_zoom, 'b')\n",
        "plt.title('MAE and Loss')\n",
        "plt.xlabel(\"Epochs\")\n",
        "plt.ylabel(\"Accuracy\")\n",
        "plt.legend([\"MAE\", \"Loss\"])\n",
        "\n",
        "plt.figure()"
      ],
      "execution_count": 9,
      "outputs": [
        {
          "output_type": "execute_result",
          "data": {
            "text/plain": [
              "<Figure size 432x288 with 0 Axes>"
            ]
          },
          "metadata": {
            "tags": []
          },
          "execution_count": 9
        },
        {
          "output_type": "display_data",
          "data": {
            "image/png": "[encoded data removed]",
            "text/plain": [
              "<Figure size 432x288 with 1 Axes>"
            ]
          },
          "metadata": {
            "tags": []
          }
        },
        {
          "output_type": "display_data",
          "data": {
            "image/png": "[encoded data removed]",
            "text/plain": [
              "<Figure size 432x288 with 1 Axes>"
            ]
          },
          "metadata": {
            "tags": []
          }
        },
        {
          "output_type": "display_data",
          "data": {
            "text/plain": [
              "<Figure size 432x288 with 0 Axes>"
            ]
          },
          "metadata": {
            "tags": []
          }
        }
      ]
    },
    {
      "cell_type": "code",
      "metadata": {
        "colab_type": "code",
        "id": "3CGaYFxXNEAK",
        "colab": {
          "base_uri": "https://localhost:8080/",
          "height": 34
        },
        "outputId": "6223ae5a-4221-4bd7-b5c4-d735e85fbc28"
      },
      "source": [
        "tf.keras.backend.clear_session()\n",
        "dataset = windowed_dataset(x_train, window_size, batch_size, shuffle_buffer_size)\n",
        "\n",
        "model = tf.keras.models.Sequential([\n",
        "  tf.keras.layers.Lambda(lambda x: tf.expand_dims(x, axis=-1),\n",
        "                      input_shape=[None]),\n",
        "  tf.keras.layers.Bidirectional(tf.keras.layers.LSTM(32, return_sequences=True)),\n",
        "  tf.keras.layers.Bidirectional(tf.keras.layers.LSTM(32)),\n",
        "  tf.keras.layers.Dense(1),\n",
        "  tf.keras.layers.Lambda(lambda x: x * 100.0)\n",
        "])\n",
        "\n",
        "\n",
        "model.compile(loss=\"mse\", optimizer=tf.keras.optimizers.SGD(lr=1e-6, momentum=0.9))\n",
        "model.fit(dataset,epochs=100, verbose=0)"
      ],
      "execution_count": 10,
      "outputs": [
        {
          "output_type": "execute_result",
          "data": {
            "text/plain": [
              "<tensorflow.python.keras.callbacks.History at 0x7ff0cde190b8>"
            ]
          },
          "metadata": {
            "tags": []
          },
          "execution_count": 10
        }
      ]
    },
    {
      "cell_type": "code",
      "metadata": {
        "colab_type": "code",
        "id": "FJ3R8ysauz9e",
        "colab": {
          "base_uri": "https://localhost:8080/",
          "height": 1000
        },
        "outputId": "c76ecdbf-66ff-4821-e650-6884189a7095"
      },
      "source": [
        "tf.keras.backend.clear_session()\n",
        "dataset = windowed_dataset(x_train, window_size, batch_size, shuffle_buffer_size)\n",
        "\n",
        "model = tf.keras.models.Sequential([\n",
        "  tf.keras.layers.Lambda(lambda x: tf.expand_dims(x, axis=-1),\n",
        "                      input_shape=[None]),\n",
        "  tf.keras.layers.Bidirectional(tf.keras.layers.LSTM(32, return_sequences=True)),\n",
        "  tf.keras.layers.Bidirectional(tf.keras.layers.LSTM(32, return_sequences=True)),\n",
        "  tf.keras.layers.Bidirectional(tf.keras.layers.LSTM(32)),\n",
        "  tf.keras.layers.Dense(1),\n",
        "  tf.keras.layers.Lambda(lambda x: x * 100.0)\n",
        "])\n",
        "\n",
        "\n",
        "model.compile(loss=\"mse\", optimizer=tf.keras.optimizers.SGD(lr=1e-6, momentum=0.9))\n",
        "model.fit(dataset,epochs=100)"
      ],
      "execution_count": 11,
      "outputs": [
        {
          "output_type": "stream",
          "text": [
            "Epoch 1/100\n",
            "31/31 [==============================] - 1s 37ms/step - loss: 748.8561\n",
            "Epoch 2/100\n",
            "31/31 [==============================] - 1s 38ms/step - loss: 151.6175\n",
            "Epoch 3/100\n",
            "31/31 [==============================] - 1s 37ms/step - loss: 97.3511\n",
            "Epoch 4/100\n",
            "31/31 [==============================] - 1s 37ms/step - loss: 83.0387\n",
            "Epoch 5/100\n",
            "31/31 [==============================] - 1s 37ms/step - loss: 78.1862\n",
            "Epoch 6/100\n",
            "31/31 [==============================] - 1s 37ms/step - loss: 73.3047\n",
            "Epoch 7/100\n",
            "31/31 [==============================] - 1s 37ms/step - loss: 67.6742\n",
            "Epoch 8/100\n",
            "31/31 [==============================] - 1s 37ms/step - loss: 74.6187\n",
            "Epoch 9/100\n",
            "31/31 [==============================] - 1s 37ms/step - loss: 72.8642\n",
            "Epoch 10/100\n",
            "31/31 [==============================] - 1s 37ms/step - loss: 63.0122\n",
            "Epoch 11/100\n",
            "31/31 [==============================] - 1s 37ms/step - loss: 60.8453\n",
            "Epoch 12/100\n",
            "31/31 [==============================] - 1s 37ms/step - loss: 57.9004\n",
            "Epoch 13/100\n",
            "31/31 [==============================] - 1s 37ms/step - loss: 62.5749\n",
            "Epoch 14/100\n",
            "31/31 [==============================] - 1s 37ms/step - loss: 56.1448\n",
            "Epoch 15/100\n",
            "31/31 [==============================] - 1s 37ms/step - loss: 53.0148\n",
            "Epoch 16/100\n",
            "31/31 [==============================] - 1s 36ms/step - loss: 64.7540\n",
            "Epoch 17/100\n",
            "31/31 [==============================] - 1s 37ms/step - loss: 58.4490\n",
            "Epoch 18/100\n",
            "31/31 [==============================] - 1s 37ms/step - loss: 59.8307\n",
            "Epoch 19/100\n",
            "31/31 [==============================] - 1s 37ms/step - loss: 56.3803\n",
            "Epoch 20/100\n",
            "31/31 [==============================] - 1s 37ms/step - loss: 56.3612\n",
            "Epoch 21/100\n",
            "31/31 [==============================] - 1s 38ms/step - loss: 51.1697\n",
            "Epoch 22/100\n",
            "31/31 [==============================] - 1s 38ms/step - loss: 54.8847\n",
            "Epoch 23/100\n",
            "31/31 [==============================] - 1s 38ms/step - loss: 52.0218\n",
            "Epoch 24/100\n",
            "31/31 [==============================] - 1s 37ms/step - loss: 55.3326\n",
            "Epoch 25/100\n",
            "31/31 [==============================] - 1s 37ms/step - loss: 48.1405\n",
            "Epoch 26/100\n",
            "31/31 [==============================] - 1s 37ms/step - loss: 53.9044\n",
            "Epoch 27/100\n",
            "31/31 [==============================] - 1s 38ms/step - loss: 54.8121\n",
            "Epoch 28/100\n",
            "31/31 [==============================] - 1s 38ms/step - loss: 54.0846\n",
            "Epoch 29/100\n",
            "31/31 [==============================] - 1s 37ms/step - loss: 47.9587\n",
            "Epoch 30/100\n",
            "31/31 [==============================] - 1s 37ms/step - loss: 49.4503\n",
            "Epoch 31/100\n",
            "31/31 [==============================] - 1s 37ms/step - loss: 53.2802\n",
            "Epoch 32/100\n",
            "31/31 [==============================] - 1s 37ms/step - loss: 56.1588\n",
            "Epoch 33/100\n",
            "31/31 [==============================] - 1s 37ms/step - loss: 47.7504\n",
            "Epoch 34/100\n",
            "31/31 [==============================] - 1s 37ms/step - loss: 50.0622\n",
            "Epoch 35/100\n",
            "31/31 [==============================] - 1s 36ms/step - loss: 48.1390\n",
            "Epoch 36/100\n",
            "31/31 [==============================] - 1s 37ms/step - loss: 47.7900\n",
            "Epoch 37/100\n",
            "31/31 [==============================] - 1s 37ms/step - loss: 53.3253\n",
            "Epoch 38/100\n",
            "31/31 [==============================] - 1s 36ms/step - loss: 47.4475\n",
            "Epoch 39/100\n",
            "31/31 [==============================] - 1s 36ms/step - loss: 47.3722\n",
            "Epoch 40/100\n",
            "31/31 [==============================] - 1s 36ms/step - loss: 48.3978\n",
            "Epoch 41/100\n",
            "31/31 [==============================] - 1s 37ms/step - loss: 45.8470\n",
            "Epoch 42/100\n",
            "31/31 [==============================] - 1s 37ms/step - loss: 49.1726\n",
            "Epoch 43/100\n",
            "31/31 [==============================] - 1s 36ms/step - loss: 48.1990\n",
            "Epoch 44/100\n",
            "31/31 [==============================] - 1s 37ms/step - loss: 51.0977\n",
            "Epoch 45/100\n",
            "31/31 [==============================] - 1s 37ms/step - loss: 48.0900\n",
            "Epoch 46/100\n",
            "31/31 [==============================] - 1s 37ms/step - loss: 51.6488\n",
            "Epoch 47/100\n",
            "31/31 [==============================] - 1s 37ms/step - loss: 49.9992\n",
            "Epoch 48/100\n",
            "31/31 [==============================] - 1s 37ms/step - loss: 45.3087\n",
            "Epoch 49/100\n",
            "31/31 [==============================] - 1s 37ms/step - loss: 44.8309\n",
            "Epoch 50/100\n",
            "31/31 [==============================] - 1s 38ms/step - loss: 45.8297\n",
            "Epoch 51/100\n",
            "31/31 [==============================] - 1s 38ms/step - loss: 49.3206\n",
            "Epoch 52/100\n",
            "31/31 [==============================] - 1s 38ms/step - loss: 50.4473\n",
            "Epoch 53/100\n",
            "31/31 [==============================] - 1s 38ms/step - loss: 50.5984\n",
            "Epoch 54/100\n",
            "31/31 [==============================] - 1s 38ms/step - loss: 44.4946\n",
            "Epoch 55/100\n",
            "31/31 [==============================] - 1s 37ms/step - loss: 47.6530\n",
            "Epoch 56/100\n",
            "31/31 [==============================] - 1s 38ms/step - loss: 46.6066\n",
            "Epoch 57/100\n",
            "31/31 [==============================] - 1s 39ms/step - loss: 46.0685\n",
            "Epoch 58/100\n",
            "31/31 [==============================] - 1s 36ms/step - loss: 45.2086\n",
            "Epoch 59/100\n",
            "31/31 [==============================] - 1s 37ms/step - loss: 45.3804\n",
            "Epoch 60/100\n",
            "31/31 [==============================] - 1s 38ms/step - loss: 46.1108\n",
            "Epoch 61/100\n",
            "31/31 [==============================] - 1s 38ms/step - loss: 46.8737\n",
            "Epoch 62/100\n",
            "31/31 [==============================] - 1s 36ms/step - loss: 46.3567\n",
            "Epoch 63/100\n",
            "31/31 [==============================] - 1s 37ms/step - loss: 45.1787\n",
            "Epoch 64/100\n",
            "31/31 [==============================] - 1s 38ms/step - loss: 44.6013\n",
            "Epoch 65/100\n",
            "31/31 [==============================] - 1s 38ms/step - loss: 43.9550\n",
            "Epoch 66/100\n",
            "31/31 [==============================] - 1s 37ms/step - loss: 43.5463\n",
            "Epoch 67/100\n",
            "31/31 [==============================] - 1s 37ms/step - loss: 44.4172\n",
            "Epoch 68/100\n",
            "31/31 [==============================] - 1s 37ms/step - loss: 48.8632\n",
            "Epoch 69/100\n",
            "31/31 [==============================] - 1s 38ms/step - loss: 49.3642\n",
            "Epoch 70/100\n",
            "31/31 [==============================] - 1s 37ms/step - loss: 47.8945\n",
            "Epoch 71/100\n",
            "31/31 [==============================] - 1s 37ms/step - loss: 43.5317\n",
            "Epoch 72/100\n",
            "31/31 [==============================] - 1s 36ms/step - loss: 47.0336\n",
            "Epoch 73/100\n",
            "31/31 [==============================] - 1s 36ms/step - loss: 45.4784\n",
            "Epoch 74/100\n",
            "31/31 [==============================] - 1s 37ms/step - loss: 43.6503\n",
            "Epoch 75/100\n",
            "31/31 [==============================] - 1s 37ms/step - loss: 46.5761\n",
            "Epoch 76/100\n",
            "31/31 [==============================] - 1s 37ms/step - loss: 46.4549\n",
            "Epoch 77/100\n",
            "31/31 [==============================] - 1s 37ms/step - loss: 45.2854\n",
            "Epoch 78/100\n",
            "31/31 [==============================] - 1s 37ms/step - loss: 44.6244\n",
            "Epoch 79/100\n",
            "31/31 [==============================] - 1s 38ms/step - loss: 44.6416\n",
            "Epoch 80/100\n",
            "31/31 [==============================] - 1s 37ms/step - loss: 51.2025\n",
            "Epoch 81/100\n",
            "31/31 [==============================] - 1s 39ms/step - loss: 53.3053\n",
            "Epoch 82/100\n",
            "31/31 [==============================] - 1s 37ms/step - loss: 45.4623\n",
            "Epoch 83/100\n",
            "31/31 [==============================] - 1s 38ms/step - loss: 45.8564\n",
            "Epoch 84/100\n",
            "31/31 [==============================] - 1s 38ms/step - loss: 46.3976\n",
            "Epoch 85/100\n",
            "31/31 [==============================] - 1s 37ms/step - loss: 44.6776\n",
            "Epoch 86/100\n",
            "31/31 [==============================] - 1s 37ms/step - loss: 43.8467\n",
            "Epoch 87/100\n",
            "31/31 [==============================] - 1s 37ms/step - loss: 51.7285\n",
            "Epoch 88/100\n",
            "31/31 [==============================] - 1s 37ms/step - loss: 46.0870\n",
            "Epoch 89/100\n",
            "31/31 [==============================] - 1s 37ms/step - loss: 48.5342\n",
            "Epoch 90/100\n",
            "31/31 [==============================] - 1s 37ms/step - loss: 45.2284\n",
            "Epoch 91/100\n",
            "31/31 [==============================] - 1s 37ms/step - loss: 54.0586\n",
            "Epoch 92/100\n",
            "31/31 [==============================] - 1s 38ms/step - loss: 44.1205\n",
            "Epoch 93/100\n",
            "31/31 [==============================] - 1s 37ms/step - loss: 44.4604\n",
            "Epoch 94/100\n",
            "31/31 [==============================] - 1s 37ms/step - loss: 46.1348\n",
            "Epoch 95/100\n",
            "31/31 [==============================] - 1s 36ms/step - loss: 44.6883\n",
            "Epoch 96/100\n",
            "31/31 [==============================] - 1s 37ms/step - loss: 44.3534\n",
            "Epoch 97/100\n",
            "31/31 [==============================] - 1s 37ms/step - loss: 44.0148\n",
            "Epoch 98/100\n",
            "31/31 [==============================] - 1s 37ms/step - loss: 44.6729\n",
            "Epoch 99/100\n",
            "31/31 [==============================] - 1s 37ms/step - loss: 45.2413\n",
            "Epoch 100/100\n",
            "31/31 [==============================] - 1s 36ms/step - loss: 46.8671\n"
          ],
          "name": "stdout"
        },
        {
          "output_type": "execute_result",
          "data": {
            "text/plain": [
              "<tensorflow.python.keras.callbacks.History at 0x7ff0caeae390>"
            ]
          },
          "metadata": {
            "tags": []
          },
          "execution_count": 11
        }
      ]
    }
  ]
}